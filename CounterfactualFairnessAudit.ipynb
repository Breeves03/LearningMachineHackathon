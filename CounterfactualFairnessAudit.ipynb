{
 "cells": [
  {
   "cell_type": "code",
   "execution_count": 1,
   "id": "14b02f0e",
   "metadata": {},
   "outputs": [],
   "source": [
    "\n",
    "\n",
    "import numpy as np\n",
    "from catboost import CatBoostClassifier\n",
    "from sklearn.ensemble import RandomForestClassifier\n",
    "from xgboost import XGBClassifier\n",
    "from sklearn.linear_model import LogisticRegression\n",
    "from sklearn.preprocessing import StandardScaler\n",
    "from sklearn.impute import SimpleImputer\n",
    "import matplotlib.pyplot as plt\n",
    "import sys\n",
    "from pathlib import Path\n",
    "\n",
    "\n",
    "import pandas as pd\n",
    "import os\n",
    "# Find project root (the folder containing .git or a marker file)\n",
    "project_root = Path(__file__).resolve().parents[1] if '__file__' in globals() else Path().resolve()\n",
    "os.chdir(project_root)\n",
    "sys.path.append(str(project_root))  # Add to import path\n"
   ]
  },
  {
   "cell_type": "code",
   "execution_count": 2,
   "id": "7d5949fc",
   "metadata": {},
   "outputs": [],
   "source": [
    "\n",
    "def counterfactual_fairness_analysis(data, model, sensitive_column, fixed_columns, feature_columns):\n",
    "    results = []\n",
    "    for index, row in data.iterrows():\n",
    "        X_original = pd.DataFrame([row.drop(fixed_columns)])\n",
    "        X_original = X_original.reindex(columns=feature_columns, fill_value=0)\n",
    "        original_prob = model.predict_proba(X_original)[:, 1][0]\n",
    "\n",
    "        # Swap sensitive attribute\n",
    "        row_swapped = row.copy()\n",
    "        if sensitive_column == 'gender':\n",
    "            row_swapped[sensitive_column] = 1 - row_swapped[sensitive_column]  # Swap binary gender\n",
    "        elif sensitive_column.startswith('ethnicity'):\n",
    "            for col in row_swapped.index:\n",
    "                if col.startswith('ethnicity_'):\n",
    "                    row_swapped[col] = 0\n",
    "            # Flip the first ethnicity to simulate a swap\n",
    "            for col in row_swapped.index:\n",
    "                if col.startswith('ethnicity_'):\n",
    "                    row_swapped[col] = 1\n",
    "                    break\n",
    "\n",
    "        X_swapped = pd.DataFrame([row_swapped.drop(fixed_columns)])\n",
    "        X_swapped = X_swapped.reindex(columns=feature_columns, fill_value=0)\n",
    "        swapped_prob = model.predict_proba(X_swapped)[:, 1][0]\n",
    "\n",
    "        delta_prob = swapped_prob - original_prob\n",
    "        results.append({\n",
    "            'Index': index,\n",
    "            'Original_Probability': original_prob,\n",
    "            'Swapped_Probability': swapped_prob,\n",
    "            'Delta_Probability': delta_prob\n",
    "        })\n",
    "    return pd.DataFrame(results)\n"
   ]
  },
  {
   "cell_type": "code",
   "execution_count": 3,
   "id": "94bc8aba",
   "metadata": {},
   "outputs": [],
   "source": [
    "\n",
    "def evaluate_all_models(models_dict, test_df, sensitive_columns, feature_columns):\n",
    "    for model_name, model in models_dict.items():\n",
    "        print(f\"\\n=== Counterfactual Fairness for {model_name} ===\")\n",
    "        for sensitive_column in sensitive_columns:\n",
    "            fixed_columns = [col for col in test_df.columns if col != sensitive_column and not col.startswith('ethnicity')]\n",
    "            results = counterfactual_fairness_analysis(test_df, model, sensitive_column, fixed_columns, feature_columns)\n",
    "            mean_delta = results['Delta_Probability'].abs().mean()\n",
    "            print(f\"Mean Δ Probability for {sensitive_column}: {mean_delta:.4f}\")\n"
   ]
  },
  {
   "cell_type": "code",
   "execution_count": null,
   "id": "c2c88586",
   "metadata": {},
   "outputs": [
    {
     "name": "stdout",
     "output_type": "stream",
     "text": [
      "\n",
      "=== Counterfactual Fairness for Random Forest ===\n",
      "Mean Δ Probability for gender: 0.0033\n",
      "Mean Δ Probability for ethnicity: 0.0094\n",
      "\n",
      "=== Counterfactual Fairness for XGBoost ===\n",
      "Mean Δ Probability for gender: 0.0000\n",
      "Mean Δ Probability for ethnicity: 0.0003\n",
      "\n",
      "=== Counterfactual Fairness for Logistic Regression ===\n",
      "Mean Δ Probability for gender: 0.0173\n",
      "Mean Δ Probability for ethnicity: 0.0096\n"
     ]
    }
   ],
   "source": [
    "\n",
    "showOutput = False\n",
    "%run SupervisedModels/SupervisedRandomForest.ipynb\n",
    "%run SupervisedModels/SupervisedXGBoost.ipynb\n",
    "#%run SupervisedModels/SupervisedCatBoost.ipynb\n",
    "%run SupervisedModels/SupervisedLogisticRegression.ipynb\n",
    "\n",
    "models = {\n",
    "    'Random Forest': rf_model,\n",
    "    'XGBoost': xgb_model,\n",
    "#    'CatBoost': cb_model,\n",
    "    'Logistic Regression': lr_model\n",
    "}\n",
    "FEATURE_COLUMNS = X.columns.tolist()\n",
    "\n",
    "evaluate_all_models(models, cleanTest, sensitive_columns=['gender', 'ethnicity'], feature_columns=FEATURE_COLUMNS)\n"
   ]
  }
 ],
 "metadata": {
  "kernelspec": {
   "display_name": "Python 3",
   "language": "python",
   "name": "python3"
  },
  "language_info": {
   "codemirror_mode": {
    "name": "ipython",
    "version": 3
   },
   "file_extension": ".py",
   "mimetype": "text/x-python",
   "name": "python",
   "nbconvert_exporter": "python",
   "pygments_lexer": "ipython3",
   "version": "3.12.4"
  }
 },
 "nbformat": 4,
 "nbformat_minor": 5
}
