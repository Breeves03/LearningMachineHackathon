{
 "cells": [
  {
   "cell_type": "code",
   "execution_count": 1,
   "id": "14b02f0e",
   "metadata": {},
   "outputs": [],
   "source": [
    "\n",
    "\n",
    "import numpy as np\n",
    "from catboost import CatBoostClassifier\n",
    "from sklearn.ensemble import RandomForestClassifier\n",
    "from xgboost import XGBClassifier\n",
    "from sklearn.linear_model import LogisticRegression\n",
    "from sklearn.preprocessing import StandardScaler\n",
    "from sklearn.impute import SimpleImputer\n",
    "import matplotlib.pyplot as plt\n",
    "import sys\n",
    "from pathlib import Path\n",
    "\n",
    "\n",
    "import pandas as pd\n",
    "import os\n",
    "# Find project root (the folder containing .git or a marker file)\n",
    "project_root = Path(__file__).resolve().parents[1] if '__file__' in globals() else Path().resolve()\n",
    "os.chdir(project_root)\n",
    "sys.path.append(str(project_root))  # Add to import path\n"
   ]
  },
  {
   "cell_type": "code",
   "execution_count": 2,
   "id": "7d5949fc",
   "metadata": {},
   "outputs": [],
   "source": [
    "\n",
    "def counterfactual_fairness_analysis(data, model, sensitive_column, fixed_columns, feature_columns):\n",
    "    results = []\n",
    "    for index, row in data.iterrows():\n",
    "        X_original = pd.DataFrame([row.drop(fixed_columns)])\n",
    "        X_original = X_original.reindex(columns=feature_columns, fill_value=0)\n",
    "        original_prob = model.predict_proba(X_original)[:, 1][0]\n",
    "\n",
    "        # Swap sensitive attribute\n",
    "        row_swapped = row.copy()\n",
    "        if sensitive_column == 'gender':\n",
    "            row_swapped[sensitive_column] = 1 - row_swapped[sensitive_column]  # Swap binary gender\n",
    "        elif sensitive_column.startswith('ethnicity'):\n",
    "            for col in row_swapped.index:\n",
    "                if col.startswith('ethnicity_'):\n",
    "                    row_swapped[col] = 0\n",
    "            # Flip the first ethnicity to simulate a swap\n",
    "            for col in row_swapped.index:\n",
    "                if col.startswith('ethnicity_'):\n",
    "                    row_swapped[col] = 1\n",
    "                    break\n",
    "\n",
    "        X_swapped = pd.DataFrame([row_swapped.drop(fixed_columns)])\n",
    "        X_swapped = X_swapped.reindex(columns=feature_columns, fill_value=0)\n",
    "        swapped_prob = model.predict_proba(X_swapped)[:, 1][0]\n",
    "\n",
    "        delta_prob = swapped_prob - original_prob\n",
    "        results.append({\n",
    "            'Index': index,\n",
    "            'Original_Probability': original_prob,\n",
    "            'Swapped_Probability': swapped_prob,\n",
    "            'Delta_Probability': delta_prob\n",
    "        })\n",
    "    return pd.DataFrame(results)\n"
   ]
  },
  {
   "cell_type": "code",
   "execution_count": 3,
   "id": "94bc8aba",
   "metadata": {},
   "outputs": [],
   "source": [
    "\n",
    "def evaluate_all_models(models_dict, test_df, sensitive_columns, feature_columns):\n",
    "    for model_name, model in models_dict.items():\n",
    "        print(f\"\\n=== Counterfactual Fairness for {model_name} ===\")\n",
    "        for sensitive_column in sensitive_columns:\n",
    "            fixed_columns = [col for col in test_df.columns if col != sensitive_column and not col.startswith('ethnicity')]\n",
    "            results = counterfactual_fairness_analysis(test_df, model, sensitive_column, fixed_columns, feature_columns)\n",
    "            mean_delta = results['Delta_Probability'].abs().mean()\n",
    "            print(f\"Mean Δ Probability for {sensitive_column}: {mean_delta:.4f}\")\n"
   ]
  },
  {
   "cell_type": "code",
   "execution_count": null,
   "id": "c2c88586",
   "metadata": {},
   "outputs": [
    {
     "name": "stderr",
     "output_type": "stream",
     "text": [
      "c:\\Users\\Blake\\AppData\\Local\\Programs\\Python\\Python312\\Lib\\site-packages\\tqdm\\auto.py:21: TqdmWarning: IProgress not found. Please update jupyter and ipywidgets. See https://ipywidgets.readthedocs.io/en/stable/user_install.html\n",
      "  from .autonotebook import tqdm as notebook_tqdm\n"
     ]
    },
    {
     "name": "stdout",
     "output_type": "stream",
     "text": [
      "Best hyperparameters: {'n_estimators': 323, 'max_depth': 15, 'min_samples_split': 7, 'min_samples_leaf': 4, 'max_features': 'sqrt', 'class_weight': 'balanced'}\n",
      "F1 Score: 0.7758007117437722\n",
      "ROC AUC: 0.9656093083936347\n",
      "Accuracy: 0.9015625\n",
      "Precision: 0.7171052631578947\n",
      "Recall: 0.8449612403100775\n"
     ]
    },
    {
     "data": {
      "image/png": "[encoded data removed]",
      "text/plain": [
       "<Figure size 640x480 with 2 Axes>"
      ]
     },
     "metadata": {},
     "output_type": "display_data"
    },
    {
     "name": "stdout",
     "output_type": "stream",
     "text": [
      "\n",
      "=== Counterfactual Fairness for Random Forest ===\n",
      "Mean Δ Probability for gender: 0.0057\n",
      "Mean Δ Probability for ethnicity: 0.0046\n",
      "\n",
      "=== Counterfactual Fairness for XGBoost ===\n",
      "Mean Δ Probability for gender: 0.0004\n",
      "Mean Δ Probability for ethnicity: 0.0000\n",
      "\n",
      "=== Counterfactual Fairness for Logistic Regression ===\n",
      "Mean Δ Probability for gender: 0.0173\n",
      "Mean Δ Probability for ethnicity: 0.0096\n"
     ]
    }
   ],
   "source": [
    "\n",
    "showOutput = False\n",
    "%run OptimizedRandomForest.ipynb\n",
    "%run OptimizedXGBoost.ipynb\n",
    "%run OptimizedCatBoost.ipynb\n",
    "%run OptimizedLogisticRegression.ipynb\n",
    "\n",
    "models = {\n",
    "    'Random Forest': rf_model,\n",
    "    'XGBoost': xgb_model,\n",
    "#    'CatBoost': cb_model,\n",
    "    'Logistic Regression': lr_model\n",
    "}\n",
    "FEATURE_COLUMNS = X.columns.tolist()\n",
    "\n",
    "evaluate_all_models(models, cleanTest, sensitive_columns=['gender', 'ethnicity'], feature_columns=FEATURE_COLUMNS)\n"
   ]
  }
 ],
 "metadata": {
  "kernelspec": {
   "display_name": "Python 3",
   "language": "python",
   "name": "python3"
  },
  "language_info": {
   "codemirror_mode": {
    "name": "ipython",
    "version": 3
   },
   "file_extension": ".py",
   "mimetype": "text/x-python",
   "name": "python",
   "nbconvert_exporter": "python",
   "pygments_lexer": "ipython3",
   "version": "3.12.4"
  }
 },
 "nbformat": 4,
 "nbformat_minor": 5
}
