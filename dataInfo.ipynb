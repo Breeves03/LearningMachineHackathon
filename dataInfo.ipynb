{
 "cells": [
  {
   "cell_type": "code",
   "execution_count": null,
   "id": "e7ee22d1",
   "metadata": {},
   "outputs": [],
   "source": [
    "import pandas as pd\n",
    "import numpy as np\n",
    "\n",
    "\n",
    "def clean_data():\n",
    "    train_df = pd.read_csv(r'DataFiles\\train.csv')\n",
    "    test_df = pd.read_csv(r'DataFiles\\test.csv')\n",
    "\n",
    "    #replace gener with 1 for 0\n",
    "    train_df['gender'] = train_df['gender'].str.lower().map({'m': 1, 'f': 0})\n",
    "    test_df['gender'] = test_df['gender'].str.lower().map({'m': 1, 'f': 0})\n",
    "\n",
    "    #replace jaundice with 1 for 0\n",
    "    train_df['jaundice'] = train_df['jaundice'].str.lower().map({'yes': 1, 'no': 0})\n",
    "    test_df['jaundice'] = test_df['jaundice'].str.lower().map({'yes': 1, 'no': 0})\n",
    "\n",
    "    #typo?\n",
    "    #replace austim with 1 for 0\n",
    "    train_df.rename(columns={'austim': 'autism'}, inplace=True)\n",
    "    test_df.rename(columns={'austim': 'autism'}, inplace=True)\n",
    "\n",
    "    train_df['autism'] = train_df['autism'].str.lower().map({'yes': 1, 'no': 0})\n",
    "    test_df['autism'] = test_df['autism'].str.lower().map({'yes': 1, 'no': 0})\n",
    "\n",
    "    #replace used_app_before with 1 for 0\n",
    "    train_df['used_app_before'] = train_df['used_app_before'].str.lower().map({'yes': 1, 'no': 0})\n",
    "    test_df['used_app_before'] = test_df['used_app_before'].str.lower().map({'yes': 1, 'no': 0})\n",
    "\n",
    "    #replace relation with 1,2,3,4\n",
    "    #Self = 1,\n",
    "    #Parent = 2,\n",
    "    #Relative = 3,\n",
    "    #Health Care Professional = 4,\n",
    "    #Others = 4,\n",
    "\n",
    "    train_df['relation'] = train_df['relation'].str.lower().map({'self': 1, 'parent': 2, 'relative': 3, 'health care professional': 4, 'others': 5})\n",
    "    test_df['relation'] = test_df['relation'].str.lower().map({'self': 1, 'parent': 2, 'relative': 3, 'health care professional': 4, 'others': 5})\n",
    "\n",
    "    #drop id\n",
    "    train_df.drop(columns=['ID'], inplace=True)\n",
    "    test_df.drop(columns=['ID'], inplace=True)\n",
    "    #drop age desc\n",
    "    train_df.drop(columns=['age_desc'], inplace=True)\n",
    "    test_df.drop(columns=['age_desc'], inplace=True)\n",
    "    #drop used app before\n",
    "    train_df.drop(columns=['used_app_before'], inplace=True)\n",
    "    test_df.drop(columns=['used_app_before'], inplace=True)\n",
    "\n",
    "    return train_df, test_d\n",
    "\n",
    "#train_df.info()\n",
    "#test_df.head()\n",
    "#train_df.head()\n",
    "#train_df.describe()\n",
    "\n",
    "\n"
   ]
  },
  {
   "cell_type": "code",
   "execution_count": null,
   "id": "3c2594b7",
   "metadata": {},
   "outputs": [],
   "source": []
  }
 ],
 "metadata": {
  "kernelspec": {
   "display_name": "base",
   "language": "python",
   "name": "python3"
  },
  "language_info": {
   "codemirror_mode": {
    "name": "ipython",
    "version": 3
   },
   "file_extension": ".py",
   "mimetype": "text/x-python",
   "name": "python",
   "nbconvert_exporter": "python",
   "pygments_lexer": "ipython3",
   "version": "3.12.7"
  }
 },
 "nbformat": 4,
 "nbformat_minor": 5
}
