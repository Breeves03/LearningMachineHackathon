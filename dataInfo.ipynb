{
 "cells": [
  {
   "cell_type": "markdown",
   "id": "13481712",
   "metadata": {},
   "source": [
    "# Data Cleaning Notebook\n",
    "\n",
    "This notebook performs data cleaning and preprocessing steps, including:\n",
    "\n",
    "- **Label Encoding**: Transform categorical variables into numeric codes.\n",
    "- **Typo Correction**: Fix typos in column names for consistency.\n",
    "- **Column Dropping**: Remove unnecessary columns to streamline the dataset.\n",
    "- **Category Encoding**: Encode nominal features for analysis."
   ]
  },
  {
   "cell_type": "code",
   "execution_count": null,
   "id": "c3d2d4d1",
   "metadata": {},
   "outputs": [],
   "source": [
    "\n",
    "import pandas as pd\n",
    "import os  # Add to import path\n",
    "import numpy as np\n",
    "import warnings\n",
    "warnings.filterwarnings(\"ignore\")"
   ]
  },
  {
   "cell_type": "markdown",
   "id": "b56c1baf",
   "metadata": {},
   "source": [
    "## Load Data from Files\n",
    "\n",
    "Load the training and testing datasets for preprocessing."
   ]
  },
  {
   "cell_type": "code",
   "execution_count": 6,
   "id": "274ac6b6",
   "metadata": {},
   "outputs": [],
   "source": [
    "train_df = pd.read_csv(r'DataFiles/train.csv')\n",
    "test_df = pd.read_csv(r'DataFiles/test.csv')"
   ]
  },
  {
   "cell_type": "markdown",
   "id": "ea9312a7",
   "metadata": {},
   "source": [
    "## Fix Typos in Dataset\n",
    "\n",
    "Correct typos in column names to ensure consistency and accuracy."
   ]
  },
  {
   "cell_type": "code",
   "execution_count": 7,
   "id": "3af9f958",
   "metadata": {},
   "outputs": [],
   "source": [
    "\n",
    "#typo?\n",
    "train_df.rename(columns={'austim': 'autism'}, inplace=True)\n",
    "test_df.rename(columns={'austim': 'autism'}, inplace=True)\n",
    "\n",
    "train_df.rename(columns={'contry_of_res': 'country_of_res'}, inplace=True)\n",
    "test_df.rename(columns={'contry_of_res': 'country_of_res'}, inplace=True)"
   ]
  },
  {
   "cell_type": "markdown",
   "id": "60428147",
   "metadata": {},
   "source": [
    "## Replace Non-Numeric Column Values\n",
    "\n",
    "Convert non-numeric column values into respective numeric codes for easier processing."
   ]
  },
  {
   "cell_type": "code",
   "execution_count": 8,
   "id": "81230c74",
   "metadata": {},
   "outputs": [],
   "source": [
    "# Replace gender with 1 or 0\n",
    "train_df['gender'] = train_df['gender'].str.lower().map({'m': 1, 'f': 0})\n",
    "test_df['gender'] = test_df['gender'].str.lower().map({'m': 1, 'f': 0})\n",
    "\n",
    "# Replace jaundice with 1 or 0\n",
    "train_df['jaundice'] = train_df['jaundice'].str.lower().map({'yes': 1, 'no': 0})\n",
    "test_df['jaundice'] = test_df['jaundice'].str.lower().map({'yes': 1, 'no': 0})\n",
    "\n",
    "# Replace autism with 1 or 0\n",
    "train_df['autism'] = train_df['autism'].str.lower().map({'yes': 1, 'no': 0})\n",
    "test_df['autism'] = test_df['autism'].str.lower().map({'yes': 1, 'no': 0})\n",
    "\n",
    "categorical_columns = ['relation', 'ethnicity', 'country_of_res']\n",
    "\n",
    "train_df = pd.get_dummies(train_df, columns=categorical_columns, drop_first=True)\n",
    "test_df = pd.get_dummies(test_df, columns=categorical_columns, drop_first=True)\n",
    "\n",
    "# Add missing columns to test_df with default value 0\n",
    "for col in train_df.columns:\n",
    "    if col not in test_df.columns:\n",
    "        test_df[col] = 0\n",
    "\n",
    "# Ensure test_df has the same column order as train_df\n",
    "test_df = test_df[train_df.columns]"
   ]
  },
  {
   "cell_type": "markdown",
   "id": "9aa27770",
   "metadata": {},
   "source": [
    "## Drop Unneeded Columns\n",
    "\n",
    "Remove columns that are not required for the analysis to streamline the dataset."
   ]
  },
  {
   "cell_type": "code",
   "execution_count": 9,
   "id": "b10561ce",
   "metadata": {},
   "outputs": [],
   "source": [
    "\n",
    "#drop id\n",
    "train_df.drop(columns=['ID'], inplace=True)\n",
    "test_df.drop(columns=['ID'], inplace=True)\n",
    "#drop age desc\n",
    "train_df.drop(columns=['age_desc'], inplace=True)\n",
    "test_df.drop(columns=['age_desc'], inplace=True)\n",
    "#drop used app before\n",
    "train_df.drop(columns=['used_app_before'], inplace=True)\n",
    "test_df.drop(columns=['used_app_before'], inplace=True)"
   ]
  }
 ],
 "metadata": {
  "kernelspec": {
   "display_name": "Python 3",
   "language": "python",
   "name": "python3"
  },
  "language_info": {
   "codemirror_mode": {
    "name": "ipython",
    "version": 3
   },
   "file_extension": ".py",
   "mimetype": "text/x-python",
   "name": "python",
   "nbconvert_exporter": "python",
   "pygments_lexer": "ipython3",
   "version": "3.12.4"
  }
 },
 "nbformat": 4,
 "nbformat_minor": 5
}
