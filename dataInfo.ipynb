{
 "cells": [
  {
   "cell_type": "markdown",
   "id": "13481712",
   "metadata": {},
   "source": [
    "# Data Cleaning Notebook\n",
    "\n",
    "This notebook performs data cleaning and preprocessing steps, including:\n",
    "\n",
    "- **Label Encoding**: Transform categorical variables into numeric codes.\n",
    "- **Typo Correction**: Fix typos in column names for consistency.\n",
    "- **Column Dropping**: Remove unnecessary columns to streamline the dataset.\n",
    "- **Category Encoding**: Encode nominal features for analysis."
   ]
  },
  {
   "cell_type": "code",
   "execution_count": 1,
   "id": "c3d2d4d1",
   "metadata": {},
   "outputs": [],
   "source": [
    "import pandas as pd\n",
    "import numpy as np\n",
    "import warnings\n",
    "warnings.filterwarnings(\"ignore\")"
   ]
  },
  {
   "cell_type": "markdown",
   "id": "b56c1baf",
   "metadata": {},
   "source": [
    "## Load Data from Files\n",
    "\n",
    "Load the training and testing datasets for preprocessing."
   ]
  },
  {
   "cell_type": "code",
   "execution_count": 2,
   "id": "274ac6b6",
   "metadata": {},
   "outputs": [],
   "source": [
    "train_df = pd.read_csv(r'DataFiles/train.csv')\n",
    "test_df = pd.read_csv(r'DataFiles/test.csv')"
   ]
  },
  {
   "cell_type": "markdown",
   "id": "ea9312a7",
   "metadata": {},
   "source": [
    "## Fix Typos in Dataset\n",
    "\n",
    "Correct typos in column names to ensure consistency and accuracy."
   ]
  },
  {
   "cell_type": "code",
   "execution_count": 3,
   "id": "3af9f958",
   "metadata": {},
   "outputs": [],
   "source": [
    "\n",
    "#typo?\n",
    "train_df.rename(columns={'austim': 'autism'}, inplace=True)\n",
    "test_df.rename(columns={'austim': 'autism'}, inplace=True)\n",
    "\n",
    "train_df.rename(columns={'contry_of_res': 'country_of_res'}, inplace=True)\n",
    "test_df.rename(columns={'contry_of_res': 'country_of_res'}, inplace=True)"
   ]
  },
  {
   "cell_type": "markdown",
   "id": "60428147",
   "metadata": {},
   "source": [
    "## Replace Non-Numeric Column Values\n",
    "\n",
    "Convert non-numeric column values into respective numeric codes for easier processing."
   ]
  },
  {
   "cell_type": "code",
   "execution_count": null,
   "id": "81230c74",
   "metadata": {},
   "outputs": [
    {
     "ename": "KeyError",
     "evalue": "\"['relation'] not in index\"",
     "output_type": "error",
     "traceback": [
      "\u001b[31m---------------------------------------------------------------------------\u001b[39m",
      "\u001b[31mKeyError\u001b[39m                                  Traceback (most recent call last)",
      "\u001b[36mCell\u001b[39m\u001b[36m \u001b[39m\u001b[32mIn[4]\u001b[39m\u001b[32m, line 19\u001b[39m\n\u001b[32m     15\u001b[39m test_df = pd.get_dummies(test_df, columns=[\u001b[33m'\u001b[39m\u001b[33mrelation\u001b[39m\u001b[33m'\u001b[39m], drop_first=\u001b[38;5;28;01mTrue\u001b[39;00m)\n\u001b[32m     17\u001b[39m categorical_columns = [\u001b[33m'\u001b[39m\u001b[33mrelation\u001b[39m\u001b[33m'\u001b[39m, \u001b[33m'\u001b[39m\u001b[33methnicity\u001b[39m\u001b[33m'\u001b[39m, \u001b[33m'\u001b[39m\u001b[33mcountry_of_res\u001b[39m\u001b[33m'\u001b[39m]\n\u001b[32m---> \u001b[39m\u001b[32m19\u001b[39m train_df = \u001b[43mpd\u001b[49m\u001b[43m.\u001b[49m\u001b[43mget_dummies\u001b[49m\u001b[43m(\u001b[49m\u001b[43mtrain_df\u001b[49m\u001b[43m,\u001b[49m\u001b[43m \u001b[49m\u001b[43mcolumns\u001b[49m\u001b[43m=\u001b[49m\u001b[43mcategorical_columns\u001b[49m\u001b[43m,\u001b[49m\u001b[43m \u001b[49m\u001b[43mdrop_first\u001b[49m\u001b[43m=\u001b[49m\u001b[38;5;28;43;01mTrue\u001b[39;49;00m\u001b[43m)\u001b[49m\n\u001b[32m     20\u001b[39m test_df = pd.get_dummies(test_df, columns=categorical_columns, drop_first=\u001b[38;5;28;01mTrue\u001b[39;00m)\n\u001b[32m     22\u001b[39m \u001b[38;5;66;03m# Add missing columns to test_df with default value 0\u001b[39;00m\n",
      "\u001b[36mFile \u001b[39m\u001b[32mc:\\Users\\Blake\\AppData\\Local\\Programs\\Python\\Python312\\Lib\\site-packages\\pandas\\core\\reshape\\encoding.py:169\u001b[39m, in \u001b[36mget_dummies\u001b[39m\u001b[34m(data, prefix, prefix_sep, dummy_na, columns, sparse, drop_first, dtype)\u001b[39m\n\u001b[32m    167\u001b[39m     \u001b[38;5;28;01mraise\u001b[39;00m \u001b[38;5;167;01mTypeError\u001b[39;00m(\u001b[33m\"\u001b[39m\u001b[33mInput must be a list-like for parameter `columns`\u001b[39m\u001b[33m\"\u001b[39m)\n\u001b[32m    168\u001b[39m \u001b[38;5;28;01melse\u001b[39;00m:\n\u001b[32m--> \u001b[39m\u001b[32m169\u001b[39m     data_to_encode = \u001b[43mdata\u001b[49m\u001b[43m[\u001b[49m\u001b[43mcolumns\u001b[49m\u001b[43m]\u001b[49m\n\u001b[32m    171\u001b[39m \u001b[38;5;66;03m# validate prefixes and separator to avoid silently dropping cols\u001b[39;00m\n\u001b[32m    172\u001b[39m \u001b[38;5;28;01mdef\u001b[39;00m\u001b[38;5;250m \u001b[39m\u001b[34mcheck_len\u001b[39m(item, name: \u001b[38;5;28mstr\u001b[39m):\n",
      "\u001b[36mFile \u001b[39m\u001b[32mc:\\Users\\Blake\\AppData\\Local\\Programs\\Python\\Python312\\Lib\\site-packages\\pandas\\core\\frame.py:4108\u001b[39m, in \u001b[36mDataFrame.__getitem__\u001b[39m\u001b[34m(self, key)\u001b[39m\n\u001b[32m   4106\u001b[39m     \u001b[38;5;28;01mif\u001b[39;00m is_iterator(key):\n\u001b[32m   4107\u001b[39m         key = \u001b[38;5;28mlist\u001b[39m(key)\n\u001b[32m-> \u001b[39m\u001b[32m4108\u001b[39m     indexer = \u001b[38;5;28;43mself\u001b[39;49m\u001b[43m.\u001b[49m\u001b[43mcolumns\u001b[49m\u001b[43m.\u001b[49m\u001b[43m_get_indexer_strict\u001b[49m\u001b[43m(\u001b[49m\u001b[43mkey\u001b[49m\u001b[43m,\u001b[49m\u001b[43m \u001b[49m\u001b[33;43m\"\u001b[39;49m\u001b[33;43mcolumns\u001b[39;49m\u001b[33;43m\"\u001b[39;49m\u001b[43m)\u001b[49m[\u001b[32m1\u001b[39m]\n\u001b[32m   4110\u001b[39m \u001b[38;5;66;03m# take() does not accept boolean indexers\u001b[39;00m\n\u001b[32m   4111\u001b[39m \u001b[38;5;28;01mif\u001b[39;00m \u001b[38;5;28mgetattr\u001b[39m(indexer, \u001b[33m\"\u001b[39m\u001b[33mdtype\u001b[39m\u001b[33m\"\u001b[39m, \u001b[38;5;28;01mNone\u001b[39;00m) == \u001b[38;5;28mbool\u001b[39m:\n",
      "\u001b[36mFile \u001b[39m\u001b[32mc:\\Users\\Blake\\AppData\\Local\\Programs\\Python\\Python312\\Lib\\site-packages\\pandas\\core\\indexes\\base.py:6200\u001b[39m, in \u001b[36mIndex._get_indexer_strict\u001b[39m\u001b[34m(self, key, axis_name)\u001b[39m\n\u001b[32m   6197\u001b[39m \u001b[38;5;28;01melse\u001b[39;00m:\n\u001b[32m   6198\u001b[39m     keyarr, indexer, new_indexer = \u001b[38;5;28mself\u001b[39m._reindex_non_unique(keyarr)\n\u001b[32m-> \u001b[39m\u001b[32m6200\u001b[39m \u001b[38;5;28;43mself\u001b[39;49m\u001b[43m.\u001b[49m\u001b[43m_raise_if_missing\u001b[49m\u001b[43m(\u001b[49m\u001b[43mkeyarr\u001b[49m\u001b[43m,\u001b[49m\u001b[43m \u001b[49m\u001b[43mindexer\u001b[49m\u001b[43m,\u001b[49m\u001b[43m \u001b[49m\u001b[43maxis_name\u001b[49m\u001b[43m)\u001b[49m\n\u001b[32m   6202\u001b[39m keyarr = \u001b[38;5;28mself\u001b[39m.take(indexer)\n\u001b[32m   6203\u001b[39m \u001b[38;5;28;01mif\u001b[39;00m \u001b[38;5;28misinstance\u001b[39m(key, Index):\n\u001b[32m   6204\u001b[39m     \u001b[38;5;66;03m# GH 42790 - Preserve name from an Index\u001b[39;00m\n",
      "\u001b[36mFile \u001b[39m\u001b[32mc:\\Users\\Blake\\AppData\\Local\\Programs\\Python\\Python312\\Lib\\site-packages\\pandas\\core\\indexes\\base.py:6252\u001b[39m, in \u001b[36mIndex._raise_if_missing\u001b[39m\u001b[34m(self, key, indexer, axis_name)\u001b[39m\n\u001b[32m   6249\u001b[39m     \u001b[38;5;28;01mraise\u001b[39;00m \u001b[38;5;167;01mKeyError\u001b[39;00m(\u001b[33mf\u001b[39m\u001b[33m\"\u001b[39m\u001b[33mNone of [\u001b[39m\u001b[38;5;132;01m{\u001b[39;00mkey\u001b[38;5;132;01m}\u001b[39;00m\u001b[33m] are in the [\u001b[39m\u001b[38;5;132;01m{\u001b[39;00maxis_name\u001b[38;5;132;01m}\u001b[39;00m\u001b[33m]\u001b[39m\u001b[33m\"\u001b[39m)\n\u001b[32m   6251\u001b[39m not_found = \u001b[38;5;28mlist\u001b[39m(ensure_index(key)[missing_mask.nonzero()[\u001b[32m0\u001b[39m]].unique())\n\u001b[32m-> \u001b[39m\u001b[32m6252\u001b[39m \u001b[38;5;28;01mraise\u001b[39;00m \u001b[38;5;167;01mKeyError\u001b[39;00m(\u001b[33mf\u001b[39m\u001b[33m\"\u001b[39m\u001b[38;5;132;01m{\u001b[39;00mnot_found\u001b[38;5;132;01m}\u001b[39;00m\u001b[33m not in index\u001b[39m\u001b[33m\"\u001b[39m)\n",
      "\u001b[31mKeyError\u001b[39m: \"['relation'] not in index\""
     ]
    }
   ],
   "source": [
    "# Replace gender with 1 or 0\n",
    "train_df['gender'] = train_df['gender'].str.lower().map({'m': 1, 'f': 0})\n",
    "test_df['gender'] = test_df['gender'].str.lower().map({'m': 1, 'f': 0})\n",
    "\n",
    "# Replace jaundice with 1 or 0\n",
    "train_df['jaundice'] = train_df['jaundice'].str.lower().map({'yes': 1, 'no': 0})\n",
    "test_df['jaundice'] = test_df['jaundice'].str.lower().map({'yes': 1, 'no': 0})\n",
    "\n",
    "# Replace autism with 1 or 0\n",
    "train_df['autism'] = train_df['autism'].str.lower().map({'yes': 1, 'no': 0})\n",
    "test_df['autism'] = test_df['autism'].str.lower().map({'yes': 1, 'no': 0})\n",
    "\n",
    "categorical_columns = ['relation', 'ethnicity', 'country_of_res']\n",
    "\n",
    "train_df = pd.get_dummies(train_df, columns=categorical_columns, drop_first=True)\n",
    "test_df = pd.get_dummies(test_df, columns=categorical_columns, drop_first=True)\n",
    "\n",
    "# Add missing columns to test_df with default value 0\n",
    "for col in train_df.columns:\n",
    "    if col not in test_df.columns:\n",
    "        test_df[col] = 0\n",
    "\n",
    "# Ensure test_df has the same column order as train_df\n",
    "test_df = test_df[train_df.columns]"
   ]
  },
  {
   "cell_type": "markdown",
   "id": "9aa27770",
   "metadata": {},
   "source": [
    "## Drop Unneeded Columns\n",
    "\n",
    "Remove columns that are not required for the analysis to streamline the dataset."
   ]
  },
  {
   "cell_type": "code",
   "execution_count": null,
   "id": "b10561ce",
   "metadata": {},
   "outputs": [],
   "source": [
    "\n",
    "#drop id\n",
    "train_df.drop(columns=['ID'], inplace=True)\n",
    "test_df.drop(columns=['ID'], inplace=True)\n",
    "#drop age desc\n",
    "train_df.drop(columns=['age_desc'], inplace=True)\n",
    "test_df.drop(columns=['age_desc'], inplace=True)\n",
    "#drop used app before\n",
    "train_df.drop(columns=['used_app_before'], inplace=True)\n",
    "test_df.drop(columns=['used_app_before'], inplace=True)"
   ]
  }
 ],
 "metadata": {
  "kernelspec": {
   "display_name": "Python 3",
   "language": "python",
   "name": "python3"
  },
  "language_info": {
   "codemirror_mode": {
    "name": "ipython",
    "version": 3
   },
   "file_extension": ".py",
   "mimetype": "text/x-python",
   "name": "python",
   "nbconvert_exporter": "python",
   "pygments_lexer": "ipython3",
   "version": "3.12.4"
  }
 },
 "nbformat": 4,
 "nbformat_minor": 5
}
