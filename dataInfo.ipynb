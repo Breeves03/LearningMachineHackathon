{
 "cells": [
  {
   "cell_type": "markdown",
   "id": "13481712",
   "metadata": {},
   "source": [
    "# Data Cleaning Notebook\n",
    "\n",
    "This notebook performs data cleaning and preprocessing steps, including:\n",
    "\n",
    "- **Label Encoding**: Transform categorical variables into numeric codes.\n",
    "- **Typo Correction**: Fix typos in column names for consistency.\n",
    "- **Column Dropping**: Remove unnecessary columns to streamline the dataset.\n",
    "- **Category Encoding**: Encode nominal features for analysis."
   ]
  },
  {
   "cell_type": "code",
   "execution_count": 6,
   "id": "c3d2d4d1",
   "metadata": {},
   "outputs": [],
   "source": [
    "import pandas as pd\n",
    "import numpy as np\n",
    "import warnings\n",
    "warnings.filterwarnings(\"ignore\")"
   ]
  },
  {
   "cell_type": "markdown",
   "id": "b56c1baf",
   "metadata": {},
   "source": [
    "## Load Data from Files\n",
    "\n",
    "Load the training and testing datasets for preprocessing."
   ]
  },
  {
   "cell_type": "code",
   "execution_count": 7,
   "id": "274ac6b6",
   "metadata": {},
   "outputs": [],
   "source": [
    "train_df = pd.read_csv(r'DataFiles/train.csv')\n",
    "test_df = pd.read_csv(r'DataFiles/test.csv')"
   ]
  },
  {
   "cell_type": "markdown",
   "id": "ea9312a7",
   "metadata": {},
   "source": [
    "## Fix Typos in Dataset\n",
    "\n",
    "Correct typos in column names to ensure consistency and accuracy."
   ]
  },
  {
   "cell_type": "code",
   "execution_count": 8,
   "id": "3af9f958",
   "metadata": {},
   "outputs": [],
   "source": [
    "\n",
    "#typo?\n",
    "train_df.rename(columns={'austim': 'autism'}, inplace=True)\n",
    "test_df.rename(columns={'austim': 'autism'}, inplace=True)\n",
    "\n",
    "train_df.rename(columns={'contry_of_res': 'country_of_res'}, inplace=True)\n",
    "test_df.rename(columns={'contry_of_res': 'country_of_res'}, inplace=True)"
   ]
  },
  {
   "cell_type": "markdown",
   "id": "60428147",
   "metadata": {},
   "source": [
    "## Replace Non-Numeric Column Values\n",
    "\n",
    "Convert non-numeric column values into respective numeric codes for easier processing."
   ]
  },
  {
   "cell_type": "code",
   "execution_count": 9,
   "id": "81230c74",
   "metadata": {},
   "outputs": [],
   "source": [
    "\n",
    "#replace gener with 1 or 0\n",
    "train_df['gender'] = train_df['gender'].str.lower().map({'m': 1, 'f': 0})\n",
    "test_df['gender'] = test_df['gender'].str.lower().map({'m': 1, 'f': 0})\n",
    "\n",
    "#replace jaundice with 1 or 0\n",
    "train_df['jaundice'] = train_df['jaundice'].str.lower().map({'yes': 1, 'no': 0})\n",
    "test_df['jaundice'] = test_df['jaundice'].str.lower().map({'yes': 1, 'no': 0})\n",
    "\n",
    "#replace autism with 1 or 0\n",
    "train_df['autism'] = train_df['autism'].str.lower().map({'yes': 1, 'no': 0})\n",
    "test_df['autism'] = test_df['autism'].str.lower().map({'yes': 1, 'no': 0})\n",
    "\n",
    "#replace relation with 1,2,3,4\n",
    "train_df['relation'] = train_df['relation'].str.lower().map({'self': 1, 'parent': 2, 'relative': 3, 'health care professional': 4, 'others': 5})\n",
    "test_df['relation'] = test_df['relation'].str.lower().map({'self': 1, 'parent': 2, 'relative': 3, 'health care professional': 4, 'others': 5})\n",
    "\n",
    "#replace ethnicity with 1,2,3,4,5\n",
    "train_df['ethnicity'] = train_df['ethnicity'].astype('category')\n",
    "test_df['ethnicity'] = test_df['ethnicity'].astype('category')\n",
    "\n",
    "# Save the mapping for ethnicity\n",
    "ethnicity_categories = train_df['ethnicity'].cat.categories\n",
    "\n",
    "# Convert 'ethnicity' to category codes\n",
    "train_df['ethnicity'] = train_df['ethnicity'].cat.codes\n",
    "test_df['ethnicity'] = test_df['ethnicity'].cat.codes\n",
    "\n",
    "#replace country code with 1,2,3,4,5\n",
    "train_df['country_of_res'] = train_df['country_of_res'].astype('category')\n",
    "test_df['country_of_res'] = test_df['country_of_res'].astype('category')\n",
    "\n",
    "# Save the mapping for Country\n",
    "country_categories = train_df['country_of_res'].cat.categories\n",
    "\n",
    "# Convert 'country_of_res' to category codes\n",
    "train_df['country_of_res'] = train_df['country_of_res'].cat.codes\n",
    "test_df['country_of_res'] = test_df['country_of_res'].cat.codes\n"
   ]
  },
  {
   "cell_type": "markdown",
   "id": "9aa27770",
   "metadata": {},
   "source": [
    "## Drop Unneeded Columns\n",
    "\n",
    "Remove columns that are not required for the analysis to streamline the dataset."
   ]
  },
  {
   "cell_type": "code",
   "execution_count": 10,
   "id": "b10561ce",
   "metadata": {},
   "outputs": [],
   "source": [
    "\n",
    "#drop id\n",
    "train_df.drop(columns=['ID'], inplace=True)\n",
    "test_df.drop(columns=['ID'], inplace=True)\n",
    "#drop age desc\n",
    "train_df.drop(columns=['age_desc'], inplace=True)\n",
    "test_df.drop(columns=['age_desc'], inplace=True)\n",
    "#drop used app before\n",
    "train_df.drop(columns=['used_app_before'], inplace=True)\n",
    "test_df.drop(columns=['used_app_before'], inplace=True)"
   ]
  }
 ],
 "metadata": {
  "kernelspec": {
   "display_name": "Python 3",
   "language": "python",
   "name": "python3"
  },
  "language_info": {
   "codemirror_mode": {
    "name": "ipython",
    "version": 3
   },
   "file_extension": ".py",
   "mimetype": "text/x-python",
   "name": "python",
   "nbconvert_exporter": "python",
   "pygments_lexer": "ipython3",
   "version": "3.12.4"
  }
 },
 "nbformat": 4,
 "nbformat_minor": 5
}
