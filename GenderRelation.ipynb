{
 "cells": [
  {
   "cell_type": "code",
   "execution_count": null,
   "id": "4d8ea2a7",
   "metadata": {},
   "outputs": [
    {
     "name": "stdout",
     "output_type": "stream",
     "text": [
      "Train DataFrame:\n",
      "   A1_Score  A2_Score  A3_Score  A4_Score  A5_Score  A6_Score  A7_Score  \\\n",
      "0         1         1         0         0         1         1         0   \n",
      "1         1         0         0         0         0         0         0   \n",
      "2         1         1         1         0         1         1         0   \n",
      "3         0         0         0         0         0         0         0   \n",
      "4         0         0         0         1         0         0         0   \n",
      "\n",
      "   A8_Score  A9_Score  A10_Score        age  gender       ethnicity  jaundice  \\\n",
      "0         0         1          1  15.599481       1  White-European         1   \n",
      "1         1         0          0  27.181099       1           Asian         0   \n",
      "2         1         1          1  31.643906       1  White-European         1   \n",
      "3         0         0          0  25.369210       1               ?         0   \n",
      "4         0         0          0   9.078580       1               ?         0   \n",
      "\n",
      "   autism contry_of_res     result  relation  \n",
      "0       0         India  12.399055       1.0  \n",
      "1       0        Mexico   6.551598       1.0  \n",
      "2       0         Egypt   3.180663       1.0  \n",
      "3       0         India   2.220766       1.0  \n",
      "4       0         Italy   7.252028       1.0  \n"
     ]
    }
   ],
   "source": [
    "import nbimporter;\n",
    "\n",
    "%run dataInfo.ipynb\n",
    "\n",
    "\n",
    "\n",
    "#train_df, test_df = data_cleaning.clean_data()\n",
    "\n",
    "print(\"Train DataFrame:\")\n",
    "print(test_df.head())\n"
   ]
  }
 ],
 "metadata": {
  "kernelspec": {
   "display_name": "Python 3",
   "language": "python",
   "name": "python3"
  },
  "language_info": {
   "codemirror_mode": {
    "name": "ipython",
    "version": 3
   },
   "file_extension": ".py",
   "mimetype": "text/x-python",
   "name": "python",
   "nbconvert_exporter": "python",
   "pygments_lexer": "ipython3",
   "version": "3.12.4"
  }
 },
 "nbformat": 4,
 "nbformat_minor": 5
}
