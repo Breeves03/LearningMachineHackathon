{
 "cells": [
  {
   "cell_type": "code",
   "execution_count": 10,
   "id": "639d9f32",
   "metadata": {},
   "outputs": [
    {
     "ename": "ValueError",
     "evalue": "Columns must be same length as key",
     "output_type": "error",
     "traceback": [
      "\u001b[31m---------------------------------------------------------------------------\u001b[39m",
      "\u001b[31mValueError\u001b[39m                                Traceback (most recent call last)",
      "\u001b[32m~\\AppData\\Local\\Temp\\ipykernel_18512\\816965698.py\u001b[39m in \u001b[36m?\u001b[39m\u001b[34m()\u001b[39m\n\u001b[32m      6\u001b[39m \n\u001b[32m      7\u001b[39m \u001b[38;5;66;03m# Filter the data where Class/ASD is 1\u001b[39;00m\n\u001b[32m      8\u001b[39m \n\u001b[32m      9\u001b[39m \u001b[38;5;66;03m# Separate the data into two groups based on Class/ASD\u001b[39;00m\n\u001b[32m---> \u001b[39m\u001b[32m10\u001b[39m cleanTrain[\u001b[33m'age'\u001b[39m] = cleanTrain[(\u001b[32m8\u001b[39m < cleanTrain[\u001b[33m'age'\u001b[39m]) & (cleanTrain[\u001b[33m'age'\u001b[39m] < \u001b[32m18\u001b[39m) ]\n\u001b[32m     11\u001b[39m \n\u001b[32m     12\u001b[39m asd_positive = cleanTrain[cleanTrain[\u001b[33m'Class/ASD'\u001b[39m] == \u001b[32m1\u001b[39m]\n\u001b[32m     13\u001b[39m asd_negative = cleanTrain[cleanTrain[\u001b[33m'Class/ASD'\u001b[39m] == \u001b[32m0\u001b[39m]\n",
      "\u001b[32mc:\\Users\\Blake\\AppData\\Local\\Programs\\Python\\Python312\\Lib\\site-packages\\pandas\\core\\frame.py\u001b[39m in \u001b[36m?\u001b[39m\u001b[34m(self, key, value)\u001b[39m\n\u001b[32m   4297\u001b[39m             self._setitem_frame(key, value)\n\u001b[32m   4298\u001b[39m         \u001b[38;5;28;01melif\u001b[39;00m isinstance(key, (Series, np.ndarray, list, Index)):\n\u001b[32m   4299\u001b[39m             self._setitem_array(key, value)\n\u001b[32m   4300\u001b[39m         \u001b[38;5;28;01melif\u001b[39;00m isinstance(value, DataFrame):\n\u001b[32m-> \u001b[39m\u001b[32m4301\u001b[39m             self._set_item_frame_value(key, value)\n\u001b[32m   4302\u001b[39m         elif (\n\u001b[32m   4303\u001b[39m             is_list_like(value)\n\u001b[32m   4304\u001b[39m             \u001b[38;5;28;01mand\u001b[39;00m \u001b[38;5;28;01mnot\u001b[39;00m self.columns.is_unique\n",
      "\u001b[32mc:\\Users\\Blake\\AppData\\Local\\Programs\\Python\\Python312\\Lib\\site-packages\\pandas\\core\\frame.py\u001b[39m in \u001b[36m?\u001b[39m\u001b[34m(self, key, value)\u001b[39m\n\u001b[32m   4425\u001b[39m             loc = self.columns.get_loc(key)\n\u001b[32m   4426\u001b[39m             cols = self.columns[loc]\n\u001b[32m   4427\u001b[39m             len_cols = \u001b[32m1\u001b[39m \u001b[38;5;28;01mif\u001b[39;00m is_scalar(cols) \u001b[38;5;28;01mor\u001b[39;00m isinstance(cols, tuple) \u001b[38;5;28;01melse\u001b[39;00m len(cols)\n\u001b[32m   4428\u001b[39m             \u001b[38;5;28;01mif\u001b[39;00m len_cols != len(value.columns):\n\u001b[32m-> \u001b[39m\u001b[32m4429\u001b[39m                 \u001b[38;5;28;01mraise\u001b[39;00m ValueError(\u001b[33m\"Columns must be same length as key\"\u001b[39m)\n\u001b[32m   4430\u001b[39m \n\u001b[32m   4431\u001b[39m             \u001b[38;5;66;03m# align right-hand-side columns if self.columns\u001b[39;00m\n\u001b[32m   4432\u001b[39m             \u001b[38;5;66;03m# is multi-index and self[key] is a sub-frame\u001b[39;00m\n",
      "\u001b[31mValueError\u001b[39m: Columns must be same length as key"
     ]
    }
   ],
   "source": [
    "%run dataInfo.ipynb\n",
    "\n",
    "import matplotlib.pyplot as plt\n",
    "cleanTrain = train_df\n",
    "\n",
    "\n",
    "# Filter the data where Class/ASD is 1\n",
    "\n",
    "# Separate the data into two groups based on Class/ASD\n",
    "cleanTrain['age'] = cleanTrain[(8 < cleanTrain['age']) & (cleanTrain['age'] < 18) ]\n",
    "\n",
    "asd_positive = cleanTrain[cleanTrain['Class/ASD'] == 1]\n",
    "asd_negative = cleanTrain[cleanTrain['Class/ASD'] == 0]\n",
    "\n",
    "# Create histograms for age distribution for both groups\n",
    "plt.figure(figsize=(10, 6))\n",
    "\n",
    "# Create a histogram with stacked bars for both groups\n",
    "plt.hist([asd_positive['age'], asd_negative['age']], bins=20, edgecolor='black', \n",
    "         color=['blue', 'green'], alpha=0.7, label=['Class/ASD = 1', 'Class/ASD = 0'])\n",
    "\n",
    "plt.xlabel('Age')\n",
    "plt.ylabel('Frequency')\n",
    "plt.title('Age Distribution by Class/ASD')\n",
    "plt.legend()\n",
    "plt.tight_layout()\n",
    "plt.show()\n",
    "\n"
   ]
  }
 ],
 "metadata": {
  "kernelspec": {
   "display_name": "Python 3",
   "language": "python",
   "name": "python3"
  },
  "language_info": {
   "codemirror_mode": {
    "name": "ipython",
    "version": 3
   },
   "file_extension": ".py",
   "mimetype": "text/x-python",
   "name": "python",
   "nbconvert_exporter": "python",
   "pygments_lexer": "ipython3",
   "version": "3.12.4"
  }
 },
 "nbformat": 4,
 "nbformat_minor": 5
}
