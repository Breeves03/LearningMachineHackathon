{
 "cells": [
  {
   "cell_type": "markdown",
   "id": "edd460d8",
   "metadata": {},
   "source": [
    "** Shap - force & dependence plots\n",
    "shap dir = /Shap"
   ]
  }
 ],
 "metadata": {
  "language_info": {
   "name": "python"
  }
 },
 "nbformat": 4,
 "nbformat_minor": 5
}
