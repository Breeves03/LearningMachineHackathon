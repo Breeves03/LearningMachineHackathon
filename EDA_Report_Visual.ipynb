{
 "cells": [
  {
   "cell_type": "markdown",
   "id": "fa9ede89",
   "metadata": {},
   "source": [
    "# 📊 Exploratory Data Analysis Report\n",
    "\n",
    "This report summarizes the key trends and distributions discovered through visual exploration of the ASD dataset."
   ]
  },
  {
   "cell_type": "markdown",
   "id": "d60b7a3d",
   "metadata": {},
   "source": [
    "## 🎂 Age Distribution\n",
    "This plot shows the distribution of ages across ASD-positive and ASD-negative individuals. The dataset skews younger, which aligns with the typical screening age for autism."
   ]
  },
  {
   "cell_type": "markdown",
   "id": "615ad1ac",
   "metadata": {},
   "source": [
    "![Age Distribution](graph_pngs/AgeHistogram.png)"
   ]
  },
  {
   "cell_type": "markdown",
   "id": "df459bdf",
   "metadata": {},
   "source": [
    "## 🧠 Age vs ASD Classification\n",
    "While younger individuals dominate the dataset, this plot shows the percentage of ASD classification across specific age brackets. The class distribution appears consistent across ages."
   ]
  },
  {
   "cell_type": "markdown",
   "id": "1e590ad8",
   "metadata": {},
   "source": [
    "![Age vs ASD](graph_pngs/AgeVsClass_ASD.png)"
   ]
  },
  {
   "cell_type": "markdown",
   "id": "70b1b996",
   "metadata": {},
   "source": [
    "## 🚻 Gender and ASD\n",
    "This bar chart shows that a larger percentage of ASD diagnoses are male, consistent with clinical research findings."
   ]
  },
  {
   "cell_type": "markdown",
   "id": "a14df48e",
   "metadata": {},
   "source": [
    "![ASD by Gender](graph_pngs/ASD_By_Gender.png)"
   ]
  },
  {
   "cell_type": "markdown",
   "id": "7538c091",
   "metadata": {},
   "source": [
    "## 🩺 Jaundice History\n",
    "This bar chart shows the number of ASD-positive individuals with and without a history of neonatal jaundice. While present, it may not be a dominant predictive factor."
   ]
  },
  {
   "cell_type": "markdown",
   "id": "4a29bd47",
   "metadata": {},
   "source": [
    "![Jaundice and ASD](graph_pngs/JaundiceASD.png)"
   ]
  },
  {
   "cell_type": "markdown",
   "id": "aa76a949",
   "metadata": {},
   "source": [
    "## 🔗 Correlation Among Questionnaire Scores\n",
    "This heatmap reveals strong Spearman correlations between the behavioral screening questions A1–A10, suggesting internal consistency."
   ]
  },
  {
   "cell_type": "markdown",
   "id": "6e6e40b8",
   "metadata": {},
   "source": [
    "![Q Correlation Heatmap](graph_pngs/QHeatmap.png)"
   ]
  },
  {
   "cell_type": "markdown",
   "id": "b6426d5e",
   "metadata": {},
   "source": [
    "## 📈 Impact of Individual Questionnaire Scores\n",
    "Some questions have stronger correlations with the ASD class label, particularly A6 and A5. This insight can inform feature importance and explainability."
   ]
  },
  {
   "cell_type": "markdown",
   "id": "53c9b1f5",
   "metadata": {},
   "source": [
    "![Q Impact](graph_pngs/QImpact.png)"
   ]
  },
  {
   "cell_type": "markdown",
   "id": "5478d081",
   "metadata": {},
   "source": [
    "---\n",
    "\n",
    "*This analysis helped guide model development, feature engineering, and fairness evaluation throughout the project.*"
   ]
  }
 ],
 "metadata": {
  "language_info": {
   "name": "python"
  }
 },
 "nbformat": 4,
 "nbformat_minor": 5
}
