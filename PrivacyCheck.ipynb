{
 "cells": [
  {
   "cell_type": "markdown",
   "id": "e4210a08",
   "metadata": {},
   "source": [
    "generate synthetic data and train models then compare with old models\n",
    "- compare all scores roc auc f1\n",
    "- accuracy drop real vs synthetic"
   ]
  }
 ],
 "metadata": {
  "language_info": {
   "name": "python"
  }
 },
 "nbformat": 4,
 "nbformat_minor": 5
}
