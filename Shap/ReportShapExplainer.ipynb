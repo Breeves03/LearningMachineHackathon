{
 "cells": [
  {
   "cell_type": "markdown",
   "id": "b9745cb8",
   "metadata": {},
   "source": [
    "# SHAP Model Explainer Report"
   ]
  },
  {
   "cell_type": "code",
   "execution_count": 6,
   "id": "177fdb0d",
   "metadata": {},
   "outputs": [],
   "source": [
    "import shap\n",
    "import matplotlib.pyplot as plt\n",
    "import pandas as pd\n",
    "import numpy as np\n",
    "import os\n",
    "original_dir = os.getcwd()\n",
    "if os.path.basename(original_dir) == \"Shap\":\n",
    "    os.chdir(os.path.dirname(original_dir))\n",
    "\n"
   ]
  },
  {
   "cell_type": "code",
   "execution_count": null,
   "id": "a2188285",
   "metadata": {},
   "outputs": [],
   "source": [
    "\n",
    "def explain_model_with_shap(model, X_sample, model_name=\"Model\"):\n",
    "    explainer = shap.Explainer(model, X_sample)\n",
    "    if hasattr(model, \"feature_name_in_\"):\n",
    "        X_sample = pd.DataFrame(X_sample, columns=model.feature_name_in_)\n",
    "    shap_values = explainer.shap_values(X_sample)\n",
    "    graph_shap_values = shap_values\n",
    "    if isinstance(shap_values, list):\n",
    "        shap_values = shap_values[0]\n",
    "        \n",
    "    return shap_values\n"
   ]
  }
 ],
 "metadata": {
  "kernelspec": {
   "display_name": "base",
   "language": "python",
   "name": "python3"
  },
  "language_info": {
   "codemirror_mode": {
    "name": "ipython",
    "version": 3
   },
   "file_extension": ".py",
   "mimetype": "text/x-python",
   "name": "python",
   "nbconvert_exporter": "python",
   "pygments_lexer": "ipython3",
   "version": "3.12.7"
  }
 },
 "nbformat": 4,
 "nbformat_minor": 5
}
