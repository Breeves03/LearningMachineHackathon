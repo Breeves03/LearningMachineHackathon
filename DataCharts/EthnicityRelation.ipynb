{
 "cells": [
  {
   "cell_type": "code",
   "execution_count": 1,
   "id": "f6c4f3a0",
   "metadata": {},
   "outputs": [
    {
     "ename": "KeyError",
     "evalue": "'ethnicity'",
     "output_type": "error",
     "traceback": [
      "\u001b[31m---------------------------------------------------------------------------\u001b[39m",
      "\u001b[31mKeyError\u001b[39m                                  Traceback (most recent call last)",
      "\u001b[36mFile \u001b[39m\u001b[32mc:\\Users\\Blake\\AppData\\Local\\Programs\\Python\\Python312\\Lib\\site-packages\\pandas\\core\\indexes\\base.py:3805\u001b[39m, in \u001b[36mIndex.get_loc\u001b[39m\u001b[34m(self, key)\u001b[39m\n\u001b[32m   3804\u001b[39m \u001b[38;5;28;01mtry\u001b[39;00m:\n\u001b[32m-> \u001b[39m\u001b[32m3805\u001b[39m     \u001b[38;5;28;01mreturn\u001b[39;00m \u001b[38;5;28;43mself\u001b[39;49m\u001b[43m.\u001b[49m\u001b[43m_engine\u001b[49m\u001b[43m.\u001b[49m\u001b[43mget_loc\u001b[49m\u001b[43m(\u001b[49m\u001b[43mcasted_key\u001b[49m\u001b[43m)\u001b[49m\n\u001b[32m   3806\u001b[39m \u001b[38;5;28;01mexcept\u001b[39;00m \u001b[38;5;167;01mKeyError\u001b[39;00m \u001b[38;5;28;01mas\u001b[39;00m err:\n",
      "\u001b[36mFile \u001b[39m\u001b[32mindex.pyx:167\u001b[39m, in \u001b[36mpandas._libs.index.IndexEngine.get_loc\u001b[39m\u001b[34m()\u001b[39m\n",
      "\u001b[36mFile \u001b[39m\u001b[32mindex.pyx:196\u001b[39m, in \u001b[36mpandas._libs.index.IndexEngine.get_loc\u001b[39m\u001b[34m()\u001b[39m\n",
      "\u001b[36mFile \u001b[39m\u001b[32mpandas\\\\_libs\\\\hashtable_class_helper.pxi:7081\u001b[39m, in \u001b[36mpandas._libs.hashtable.PyObjectHashTable.get_item\u001b[39m\u001b[34m()\u001b[39m\n",
      "\u001b[36mFile \u001b[39m\u001b[32mpandas\\\\_libs\\\\hashtable_class_helper.pxi:7089\u001b[39m, in \u001b[36mpandas._libs.hashtable.PyObjectHashTable.get_item\u001b[39m\u001b[34m()\u001b[39m\n",
      "\u001b[31mKeyError\u001b[39m: 'ethnicity'",
      "\nThe above exception was the direct cause of the following exception:\n",
      "\u001b[31mKeyError\u001b[39m                                  Traceback (most recent call last)",
      "\u001b[36mCell\u001b[39m\u001b[36m \u001b[39m\u001b[32mIn[1]\u001b[39m\u001b[32m, line 9\u001b[39m\n\u001b[32m      6\u001b[39m     os.chdir(os.path.dirname(original_dir))\n\u001b[32m      7\u001b[39m get_ipython().run_line_magic(\u001b[33m'\u001b[39m\u001b[33mrun\u001b[39m\u001b[33m'\u001b[39m, \u001b[33m'\u001b[39m\u001b[33mdataInfo.ipynb\u001b[39m\u001b[33m'\u001b[39m)\n\u001b[32m----> \u001b[39m\u001b[32m9\u001b[39m train_df = train_df[\u001b[43mtrain_df\u001b[49m\u001b[43m[\u001b[49m\u001b[33;43m'\u001b[39;49m\u001b[33;43methnicity\u001b[39;49m\u001b[33;43m'\u001b[39;49m\u001b[43m]\u001b[49m != \u001b[32m0\u001b[39m]\n\u001b[32m     11\u001b[39m cleanTest = test_df\n\u001b[32m     12\u001b[39m cleanTrain = train_df\n",
      "\u001b[36mFile \u001b[39m\u001b[32mc:\\Users\\Blake\\AppData\\Local\\Programs\\Python\\Python312\\Lib\\site-packages\\pandas\\core\\frame.py:4102\u001b[39m, in \u001b[36mDataFrame.__getitem__\u001b[39m\u001b[34m(self, key)\u001b[39m\n\u001b[32m   4100\u001b[39m \u001b[38;5;28;01mif\u001b[39;00m \u001b[38;5;28mself\u001b[39m.columns.nlevels > \u001b[32m1\u001b[39m:\n\u001b[32m   4101\u001b[39m     \u001b[38;5;28;01mreturn\u001b[39;00m \u001b[38;5;28mself\u001b[39m._getitem_multilevel(key)\n\u001b[32m-> \u001b[39m\u001b[32m4102\u001b[39m indexer = \u001b[38;5;28;43mself\u001b[39;49m\u001b[43m.\u001b[49m\u001b[43mcolumns\u001b[49m\u001b[43m.\u001b[49m\u001b[43mget_loc\u001b[49m\u001b[43m(\u001b[49m\u001b[43mkey\u001b[49m\u001b[43m)\u001b[49m\n\u001b[32m   4103\u001b[39m \u001b[38;5;28;01mif\u001b[39;00m is_integer(indexer):\n\u001b[32m   4104\u001b[39m     indexer = [indexer]\n",
      "\u001b[36mFile \u001b[39m\u001b[32mc:\\Users\\Blake\\AppData\\Local\\Programs\\Python\\Python312\\Lib\\site-packages\\pandas\\core\\indexes\\base.py:3812\u001b[39m, in \u001b[36mIndex.get_loc\u001b[39m\u001b[34m(self, key)\u001b[39m\n\u001b[32m   3807\u001b[39m     \u001b[38;5;28;01mif\u001b[39;00m \u001b[38;5;28misinstance\u001b[39m(casted_key, \u001b[38;5;28mslice\u001b[39m) \u001b[38;5;129;01mor\u001b[39;00m (\n\u001b[32m   3808\u001b[39m         \u001b[38;5;28misinstance\u001b[39m(casted_key, abc.Iterable)\n\u001b[32m   3809\u001b[39m         \u001b[38;5;129;01mand\u001b[39;00m \u001b[38;5;28many\u001b[39m(\u001b[38;5;28misinstance\u001b[39m(x, \u001b[38;5;28mslice\u001b[39m) \u001b[38;5;28;01mfor\u001b[39;00m x \u001b[38;5;129;01min\u001b[39;00m casted_key)\n\u001b[32m   3810\u001b[39m     ):\n\u001b[32m   3811\u001b[39m         \u001b[38;5;28;01mraise\u001b[39;00m InvalidIndexError(key)\n\u001b[32m-> \u001b[39m\u001b[32m3812\u001b[39m     \u001b[38;5;28;01mraise\u001b[39;00m \u001b[38;5;167;01mKeyError\u001b[39;00m(key) \u001b[38;5;28;01mfrom\u001b[39;00m\u001b[38;5;250m \u001b[39m\u001b[34;01merr\u001b[39;00m\n\u001b[32m   3813\u001b[39m \u001b[38;5;28;01mexcept\u001b[39;00m \u001b[38;5;167;01mTypeError\u001b[39;00m:\n\u001b[32m   3814\u001b[39m     \u001b[38;5;66;03m# If we have a listlike key, _check_indexing_error will raise\u001b[39;00m\n\u001b[32m   3815\u001b[39m     \u001b[38;5;66;03m#  InvalidIndexError. Otherwise we fall through and re-raise\u001b[39;00m\n\u001b[32m   3816\u001b[39m     \u001b[38;5;66;03m#  the TypeError.\u001b[39;00m\n\u001b[32m   3817\u001b[39m     \u001b[38;5;28mself\u001b[39m._check_indexing_error(key)\n",
      "\u001b[31mKeyError\u001b[39m: 'ethnicity'"
     ]
    }
   ],
   "source": [
    "\n",
    "import matplotlib.pyplot as plt\n",
    "\n",
    "import os\n",
    "original_dir = os.getcwd()\n",
    "if os.path.basename(original_dir) == \"DataCharts\":\n",
    "    os.chdir(os.path.dirname(original_dir))\n",
    "%run dataInfo.ipynb\n",
    "\n",
    "train_df = train_df[train_df['ethnicity'] != 0]\n",
    "\n",
    "cleanTest = test_df\n",
    "cleanTrain = train_df\n",
    "\n",
    "# Amount of each ethnicity in the training data (using category labels)\n",
    "ethnicity_counts = cleanTrain['ethnicity'].value_counts()\n",
    "\n",
    "# Plot bar chart for ethnicity distribution\n",
    "ethnicity_counts.plot(kind='bar', color=['skyblue', 'lightgreen', 'lightcoral', 'lightyellow', 'lightskyblue'])\n",
    "plt.title('Ethnicity Distribution in Training Data')\n",
    "plt.xlabel('Ethnicity')\n",
    "plt.ylabel('Count')\n",
    "plt.grid(True, axis='y')\n",
    "plt.xticks(rotation=45)  # Rotate x-axis labels for better visibility\n",
    "plt.show()\n",
    "\n",
    "#Print the mapping\n",
    "for i, eth in enumerate(ethnicity_categories):\n",
    "    print(f\"{eth} → {i}\")\n",
    "\n",
    "# Filter for individuals with ASD by ethnicity (using category labels)\n",
    "ethnicities = cleanTrain['ethnicity'].unique()  # Get all unique ethnicity categories\n",
    "asd_counts_by_ethnicity = {}\n",
    "\n",
    "# Loop through each ethnicity and count the number of people with ASD\n",
    "for ethnicity in ethnicities:\n",
    "    ethnicity_asd = cleanTrain[(cleanTrain['ethnicity'] == ethnicity) & (cleanTrain['Class/ASD'] == 1)]\n",
    "    asd_counts_by_ethnicity[ethnicity] = len(ethnicity_asd)\n",
    "\n",
    "# Plot the bar chart for ASD by ethnicity (with category labels)\n",
    "plt.bar(asd_counts_by_ethnicity.keys(), asd_counts_by_ethnicity.values(), color=['skyblue', 'lightgreen', 'lightcoral', 'lightyellow', 'lightskyblue'])\n",
    "plt.title('ASD Distribution by Ethnicity in Training Data')\n",
    "plt.ylabel('Count')\n",
    "plt.xticks(rotation=45)  # Rotate x-axis labels for better visibility\n",
    "plt.grid(True, axis='y')\n",
    "plt.show()\n",
    "\n",
    "# Calculate and print the percentage of ASD in each ethnicity (using category labels)\n",
    "ethnicity_asd_percentage = {}\n",
    "for ethnicity in ethnicities:\n",
    "    total_ethnicity_count = len(cleanTrain[cleanTrain['ethnicity'] == ethnicity])\n",
    "    asd_count = asd_counts_by_ethnicity.get(ethnicity, 0)\n",
    "    ethnicity_asd_percentage[ethnicity] = (asd_count / total_ethnicity_count) * 100 if total_ethnicity_count != 0 else 0\n",
    "\n",
    "# Print the percentages of ASD for each ethnicity\n",
    "for ethnicity, percentage in ethnicity_asd_percentage.items():\n",
    "    print(f\"Percentage of {ethnicity} with ASD: {percentage:.2f}%\")\n",
    "\n",
    "for i, eth in enumerate(ethnicity_categories):\n",
    "    print(f\"{eth} → {i}\")\n"
   ]
  }
 ],
 "metadata": {
  "kernelspec": {
   "display_name": "Python 3",
   "language": "python",
   "name": "python3"
  },
  "language_info": {
   "codemirror_mode": {
    "name": "ipython",
    "version": 3
   },
   "file_extension": ".py",
   "mimetype": "text/x-python",
   "name": "python",
   "nbconvert_exporter": "python",
   "pygments_lexer": "ipython3",
   "version": "3.12.4"
  }
 },
 "nbformat": 4,
 "nbformat_minor": 5
}
